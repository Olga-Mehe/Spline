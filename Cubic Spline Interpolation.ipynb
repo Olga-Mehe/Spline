{
 "cells": [
  {
   "cell_type": "code",
   "execution_count": 6,
   "metadata": {},
   "outputs": [],
   "source": [
    "import matplotlib.pyplot as plt\n",
    "from pylab import arange\n",
    "from math import e\n",
    "from math import pi\n",
    "from numpy import poly1d\n",
    "from time import process_time_ns\n",
    "import pylab\n",
    "\n",
    "def zeroV(m):\n",
    "    z = [0]*m\n",
    "    return(z)\n",
    "\n",
    "#На вход: кол-во узлов, кординаты по x, координаты по y\n",
    "def cubic_spline(n, xn, a):\n",
    "    \"\"\"Функция cubic_spline интерполирует между узлами\n",
    "        задается списками xn и a. Функция вычисляет коэффициенты\n",
    "        и выводит диапазоны кусочно-кубических сплайнов.\"\"\"        \n",
    "\n",
    "    h = zeroV(n-1); alpha = zeroV(n-1)\n",
    "    l = zeroV(n+1); u = zeroV(n);   z = zeroV(n+1)\n",
    "    b = zeroV(n);   c = zeroV(n+1); d = zeroV(n)    \n",
    "\n",
    "    for i in range(n-1):\n",
    "        h[i] = xn[i+1]-xn[i]  \n",
    "\n",
    "    for i in range(1, n-1):\n",
    "        alpha[i] = (3./h[i])*(a[i+1]-a[i])-(3./h[i-1])*(a[i] - a[i-1])\n",
    "\n",
    "    # I   \n",
    "    l[0] = 1; u[0] = 0; z[0] = 0\n",
    "\n",
    "    # II\n",
    "    for i in range(1, n-1):\n",
    "        l[i] = 2*(xn[i+1] - xn[i-1]) - h[i-1]*u[i-1]\n",
    "        u[i] = h[i]/l[i]\n",
    "        z[i] = (alpha[i] - h[i-1]*z[i-1])/l[i]\n",
    "\n",
    "    l[n] = 1; z[n] = 0; c[n] = 0\n",
    "\n",
    "    # III\n",
    "    for j in range(n-2, -1, -1):      \n",
    "        c[j] = z[j] - u[j]*c[j+1]\n",
    "        b[j] = (a[j+1] - a[j])/h[j] - h[j]*(c[j+1] + 2*c[j])/3.\n",
    "        d[j] = (c[j+1] - c[j])/(3*h[j]) \n",
    "\n",
    "    for j in range(n-1):\n",
    "        cub_graph(a[j],b[j],c[j],d[j],xn[j],xn[j+1])\n",
    "    plt.show()\n",
    "\n",
    "def cub_graph(a,b,c,d, x_i, x_i_1):\n",
    "    \"\"\"cub_graph принимает i-й набор коэффициентов вместе с x[i] и x[i+1] - й\n",
    "    pts данных и строит полиномиальный сплайн между двумя pts данных, используя\n",
    "    объект python poly1d \"\"\"\n",
    "    root = poly1d(x_i,True)\n",
    "    poly = 0\n",
    "    poly = d*(root)**3\n",
    "    poly = poly + c*(root)**2\n",
    "    poly = poly + b*root\n",
    "    poly = poly + a\n",
    "\n",
    "    pts = arange(x_i,x_i_1, 0.001)\n",
    "    plt.plot(pts, poly(pts), '-')\n",
    "    return"
   ]
  },
  {
   "cell_type": "code",
   "execution_count": 7,
   "metadata": {},
   "outputs": [
    {
     "data": {
      "image/png": "[encoded data removed]",
      "text/plain": [
       "<Figure size 432x288 with 1 Axes>"
      ]
     },
     "metadata": {
      "needs_background": "light"
     },
     "output_type": "display_data"
    }
   ],
   "source": [
    "x_vals = [1,2,3,4,5,6]\n",
    "fx = [10,3,5,1,7,8]\n",
    "#Строим сплайн\n",
    "pylab.plot([1,2,3,4,5,6],[10,3,5,1,7,8],'ro')\n",
    "# Run cubic_spline interpolant.\n",
    "cubic_spline(6,x_vals,fx)"
   ]
  },
  {
   "cell_type": "code",
   "execution_count": 8,
   "metadata": {},
   "outputs": [
    {
     "data": {
      "image/png": "[encoded data removed]",
      "text/plain": [
       "<Figure size 432x288 with 1 Axes>"
      ]
     },
     "metadata": {
      "needs_background": "light"
     },
     "output_type": "display_data"
    }
   ],
   "source": [
    "x_vals = [1,2,3,4,5,6]\n",
    "fx = [1.0002, 1.0341, 0.6, 0.40105, 0.1, 0.23975]\n",
    "#Строим сплайн\n",
    "pylab.plot([1,2,3,4,5,6],[1.0002, 1.0341, 0.6, 0.40105, 0.1, 0.23975],'ro')\n",
    "# Run cubic_spline interpolant.\n",
    "cubic_spline(6,x_vals,fx)"
   ]
  },
  {
   "cell_type": "code",
   "execution_count": null,
   "metadata": {},
   "outputs": [],
   "source": []
  }
 ],
 "metadata": {
  "kernelspec": {
   "display_name": "Python 3",
   "language": "python",
   "name": "python3"
  },
  "language_info": {
   "codemirror_mode": {
    "name": "ipython",
    "version": 3
   },
   "file_extension": ".py",
   "mimetype": "text/x-python",
   "name": "python",
   "nbconvert_exporter": "python",
   "pygments_lexer": "ipython3",
   "version": "3.7.3"
  }
 },
 "nbformat": 4,
 "nbformat_minor": 2
}
